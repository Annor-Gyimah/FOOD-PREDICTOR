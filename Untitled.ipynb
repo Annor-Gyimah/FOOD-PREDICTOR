{
 "cells": [
  {
   "cell_type": "code",
   "execution_count": 12,
   "id": "1f8f1899",
   "metadata": {},
   "outputs": [
    {
     "name": "stdout",
     "output_type": "stream",
     "text": [
      "Enter values for features (0 or 1):\n",
      "Feature 1: 1\n",
      "Feature 2: 1\n",
      "Feature 3: 1\n",
      "You should eat: Soup\n"
     ]
    }
   ],
   "source": [
    "from sklearn.tree import DecisionTreeClassifier\n",
    "\n",
    "# Define the features and labels\n",
    "features = [[0, 0, 0],   # Features could be binary values representing attributes of food\n",
    "            [1, 1, 0],\n",
    "            [1, 0, 1],\n",
    "            [0, 1, 1],\n",
    "            [1, 0, 0]\n",
    "           ]\n",
    "\n",
    "labels = ['Salad', 'Pizza', 'Soup', 'Burger','jollof']   # Corresponding labels for the food types\n",
    "\n",
    "# Create a decision tree classifier\n",
    "clf = DecisionTreeClassifier()\n",
    "\n",
    "# Train the model\n",
    "clf.fit(features, labels)\n",
    "\n",
    "# Get user input\n",
    "print(\"Enter values for features (0 or 1):\")\n",
    "feature_input = []\n",
    "for i in range(len(features[0])):\n",
    "    value = int(input(f\"Feature {i + 1}: \"))\n",
    "    feature_input.append(value)\n",
    "\n",
    "# Make a prediction\n",
    "predicted_label = clf.predict([feature_input])\n",
    "\n",
    "# Output the prediction\n",
    "print(\"You should eat:\", predicted_label[0])\n"
   ]
  },
  {
   "cell_type": "code",
   "execution_count": null,
   "id": "a78af354",
   "metadata": {},
   "outputs": [],
   "source": []
  },
  {
   "cell_type": "code",
   "execution_count": null,
   "id": "85638865",
   "metadata": {},
   "outputs": [],
   "source": []
  }
 ],
 "metadata": {
  "kernelspec": {
   "display_name": "Python 3 (ipykernel)",
   "language": "python",
   "name": "python3"
  },
  "language_info": {
   "codemirror_mode": {
    "name": "ipython",
    "version": 3
   },
   "file_extension": ".py",
   "mimetype": "text/x-python",
   "name": "python",
   "nbconvert_exporter": "python",
   "pygments_lexer": "ipython3",
   "version": "3.9.16"
  }
 },
 "nbformat": 4,
 "nbformat_minor": 5
}
