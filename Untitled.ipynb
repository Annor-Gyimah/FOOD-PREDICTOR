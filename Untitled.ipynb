{
 "cells": [
  {
   "cell_type": "code",
   "execution_count": 12,
   "id": "1f8f1899",
   "metadata": {},
   "outputs": [
    {
     "name": "stdout",
     "output_type": "stream",
     "text": [
      "Enter values for features (0 or 1):\n",
      "Feature 1: 1\n",
      "Feature 2: 1\n",
      "Feature 3: 1\n",
      "You should eat: Soup\n"
     ]
    }
   ],
   "source": [
    "from sklearn.tree import DecisionTreeClassifier\n",
    "\n",
    "# Define the features and labels\n",
    "features = [[0, 0, 0],   # Features could be binary values representing attributes of food\n",
    "            [1, 1, 0],\n",
    "            [1, 0, 1],\n",
    "            [0, 1, 1],\n",
    "            [1, 0, 0]\n",
    "           ]\n",
    "\n",
    "labels = ['Salad', 'Pizza', 'Soup', 'Burger','jollof']   # Corresponding labels for the food types\n",
    "\n",
    "# Create a decision tree classifier\n",
    "clf = DecisionTreeClassifier()\n",
    "\n",
    "# Train the model\n",
    "clf.fit(features, labels)\n",
    "\n",
    "# Get user input\n",
    "print(\"Enter values for features (0 or 1):\")\n",
    "feature_input = []\n",
    "for i in range(len(features[0])):\n",
    "    value = int(input(f\"Feature {i + 1}: \"))\n",
    "    feature_input.append(value)\n",
    "\n",
    "# Make a prediction\n",
    "predicted_label = clf.predict([feature_input])\n",
    "\n",
    "# Output the prediction\n",
    "print(\"You should eat:\", predicted_label[0])\n"
   ]
  },
  {
   "cell_type": "code",
   "execution_count": 16,
   "id": "a78af354",
   "metadata": {},
   "outputs": [
    {
     "name": "stdout",
     "output_type": "stream",
     "text": [
      "Enter values for time of the day (0 or 1):\n",
      "Morning: 0\n",
      "Afternoon: 1\n",
      "Evening: 0\n",
      "Enter your initial weight gain: 4.9\n",
      "You should eat: Soup\n",
      "Total weight gain: [5.4]\n"
     ]
    }
   ],
   "source": [
    "import pandas as pd\n",
    "from warnings import filterwarnings\n",
    "filterwarnings('ignore')\n",
    "# Load the modified CSV file\n",
    "df = pd.read_csv('food.csv')\n",
    "\n",
    "# Separate features (X) and labels (y)\n",
    "# Separate features (X) and labels (y)\n",
    "X = df[['Morning', 'Afternoon', 'Evening']]\n",
    "y = df['Food']\n",
    "\n",
    "\n",
    "# Separate weight gain as target variable (y_weight)\n",
    "y_weight = df['Weight Gain']\n",
    "\n",
    "from sklearn.tree import DecisionTreeClassifier, DecisionTreeRegressor\n",
    "\n",
    "# Create a decision tree classifier for food prediction\n",
    "clf_food = DecisionTreeClassifier()\n",
    "clf_food.fit(X, y)\n",
    "\n",
    "# Create a decision tree regressor for weight gain prediction\n",
    "clf_weight = DecisionTreeRegressor()\n",
    "clf_weight.fit(X, y_weight)\n",
    "\n",
    "# Get user input for time of the day\n",
    "print(\"Enter values for time of the day (0 or 1):\")\n",
    "morning = int(input(\"Morning: \"))\n",
    "afternoon = int(input(\"Afternoon: \"))\n",
    "evening = int(input(\"Evening: \"))\n",
    "\n",
    "# Get user input for initial weight gain\n",
    "initial_weight_gain = float(input(\"Enter your initial weight gain: \"))\n",
    "\n",
    "# Make food prediction\n",
    "food_prediction = clf_food.predict([[morning, afternoon, evening]])\n",
    "\n",
    "# Make weight gain prediction\n",
    "weight_gain_prediction = clf_weight.predict([[morning, afternoon, evening]])\n",
    "\n",
    "# Calculate total weight gain\n",
    "total_weight_gain = initial_weight_gain + weight_gain_prediction\n",
    "\n",
    "# Output the predictions\n",
    "print(\"You should eat:\", food_prediction[0])\n",
    "print(\"Total weight gain:\", total_weight_gain)\n",
    "\n"
   ]
  },
  {
   "cell_type": "code",
   "execution_count": 23,
   "id": "85638865",
   "metadata": {},
   "outputs": [
    {
     "name": "stdout",
     "output_type": "stream",
     "text": [
      "Enter values for time of the day (0 or 1):\n",
      "Morning: 0\n",
      "Afternoon: 0\n",
      "Evening: 0\n",
      "Invalid input\n",
      "You should eat Soup in the Afternoon\n"
     ]
    }
   ],
   "source": [
    "import pandas as pd\n",
    "from sklearn.tree import DecisionTreeClassifier\n",
    "\n",
    "# Load the CSV file\n",
    "df = pd.read_csv('food.csv')\n",
    "\n",
    "# Separate features (X) and labels (y)\n",
    "X = df[['Morning', 'Afternoon', 'Evening']]\n",
    "y = df['Food']\n",
    "\n",
    "# Create a decision tree classifier\n",
    "clf = DecisionTreeClassifier()\n",
    "clf.fit(X, y)\n",
    "\n",
    "# Get user input for time of the day\n",
    "print(\"Enter values for time of the day (0 or 1):\")\n",
    "morning = int(input(\"Morning: \"))\n",
    "afternoon = int(input(\"Afternoon: \"))\n",
    "evening = int(input(\"Evening: \"))\n",
    "\n",
    "# Predict the food based on the time of the day\n",
    "if morning == 1:\n",
    "    time = 'Morning'\n",
    "elif afternoon == 1:\n",
    "    time = 'Afternoon'\n",
    "elif evening == 1:\n",
    "    time = 'Evening'\n",
    "else:\n",
    "    print(\"Invalid input\")\n",
    "\n",
    "if time:\n",
    "    food_prediction = clf.predict([[morning, afternoon, evening]])\n",
    "    print(\"You should eat\", food_prediction[0], \"in the\", time)\n",
    "           "
   ]
  },
  {
   "cell_type": "code",
   "execution_count": null,
   "id": "d28d29ee",
   "metadata": {},
   "outputs": [],
   "source": []
  },
  {
   "cell_type": "code",
   "execution_count": null,
   "id": "9cd04953",
   "metadata": {},
   "outputs": [],
   "source": []
  }
 ],
 "metadata": {
  "kernelspec": {
   "display_name": "Python 3 (ipykernel)",
   "language": "python",
   "name": "python3"
  },
  "language_info": {
   "codemirror_mode": {
    "name": "ipython",
    "version": 3
   },
   "file_extension": ".py",
   "mimetype": "text/x-python",
   "name": "python",
   "nbconvert_exporter": "python",
   "pygments_lexer": "ipython3",
   "version": "3.9.16"
  }
 },
 "nbformat": 4,
 "nbformat_minor": 5
}
